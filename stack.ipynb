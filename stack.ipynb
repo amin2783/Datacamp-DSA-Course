{
 "cells": [
  {
   "cell_type": "code",
   "execution_count": 2,
   "metadata": {},
   "outputs": [],
   "source": [
    "class Node:\n",
    "    def __init__(self, data):\n",
    "        self.data = data\n",
    "        self.next = None\n",
    "\n",
    "\n",
    "class Stack:\n",
    "    def __init__(self):\n",
    "        self.top = None\n",
    "\n",
    "    \n",
    "    def push(self, data):\n",
    "        new_node = Node(data)\n",
    "        if self.top:\n",
    "            new_node.next = self.top\n",
    "        self.top = new_node\n",
    "    \n",
    "\n",
    "    def pop(self):\n",
    "        if self.top is None:\n",
    "            return None\n",
    "        else:\n",
    "            popped_node = self.top\n",
    "            self.top = self.top.next\n",
    "            popped_node.next = None\n",
    "            return popped_node.data\n",
    "    \n",
    "\n",
    "    def peek(self):\n",
    "        if self.top:\n",
    "            return self.top.data\n",
    "        else:\n",
    "            return None"
   ]
  },
  {
   "cell_type": "code",
   "execution_count": 1,
   "metadata": {},
   "outputs": [
    {
     "name": "stdout",
     "output_type": "stream",
     "text": [
      "The size is:  3\n"
     ]
    }
   ],
   "source": [
    "# We can also use the LifoQueue \n",
    "\n",
    "import queue\n",
    "\n",
    "my_book_stack = queue.LifoQueue(maxsize=0)\n",
    "my_book_stack.put(\"The misunderstanding\")\n",
    "my_book_stack.put(\"Persepolis\")\n",
    "my_book_stack.put(\"1984\")\n",
    "\n",
    "print(\"The size is: \", my_book_stack.qsize())"
   ]
  },
  {
   "cell_type": "code",
   "execution_count": 2,
   "metadata": {},
   "outputs": [
    {
     "name": "stdout",
     "output_type": "stream",
     "text": [
      "1984\n",
      "Persepolis\n",
      "The misunderstanding\n"
     ]
    }
   ],
   "source": [
    "print(my_book_stack.get())\n",
    "print(my_book_stack.get())\n",
    "print(my_book_stack.get())"
   ]
  },
  {
   "cell_type": "code",
   "execution_count": 3,
   "metadata": {},
   "outputs": [
    {
     "name": "stdout",
     "output_type": "stream",
     "text": [
      "Empty stack:  True\n"
     ]
    }
   ],
   "source": [
    "print(\"Empty stack: \", my_book_stack.empty())"
   ]
  },
  {
   "cell_type": "code",
   "execution_count": 7,
   "metadata": {},
   "outputs": [
    {
     "name": "stdout",
     "output_type": "stream",
     "text": [
      "Help on function put in module queue:\n",
      "\n",
      "put(self, item, block=True, timeout=None)\n",
      "    Put an item into the queue.\n",
      "    \n",
      "    If optional args 'block' is true and 'timeout' is None (the default),\n",
      "    block if necessary until a free slot is available. If 'timeout' is\n",
      "    a non-negative number, it blocks at most 'timeout' seconds and raises\n",
      "    the Full exception if no free slot was available within that time.\n",
      "    Otherwise ('block' is false), put an item on the queue if a free slot\n",
      "    is immediately available, else raise the Full exception ('timeout'\n",
      "    is ignored in that case).\n",
      "\n"
     ]
    }
   ],
   "source": [
    "help(queue.LifoQueue.put)"
   ]
  }
 ],
 "metadata": {
  "kernelspec": {
   "display_name": "Python 3",
   "language": "python",
   "name": "python3"
  },
  "language_info": {
   "codemirror_mode": {
    "name": "ipython",
    "version": 3
   },
   "file_extension": ".py",
   "mimetype": "text/x-python",
   "name": "python",
   "nbconvert_exporter": "python",
   "pygments_lexer": "ipython3",
   "version": "3.11.3"
  },
  "orig_nbformat": 4
 },
 "nbformat": 4,
 "nbformat_minor": 2
}
